{
 "cells": [
  {
   "cell_type": "markdown",
   "id": "91ed368a",
   "metadata": {},
   "source": [
    "# Exploring eBay Car Sales Data\n",
    "\n",
    "This project will use a dataset of used cars from _**eBay Kleinanzeigen**_. eBay Kleinanzeigen is an online marketplace for classified **ads** that allow buyers and sellers to meet and connect locally. With roughly 30 million users a month, eBay Kleinanzeigen is one of the most important web services for online advertisements in Germany. On average, the company has more than 50 million advertisements listed across numerous second-hand good categories. The dataset is for **ads** on secondhand **cars** that were posted on their website between the years **2015** and **2016**.\n",
    "\n",
    "### Aim:\n",
    "\n",
    "1. Data Cleaning.\n",
    "2. Exploratory Data Analysis.\n",
    "\n",
    "### Questions:\n",
    "\n",
    "1. What are the popular car brands?\n",
    "2. What is the most expensive car on average by brand?\n",
    "3. How do car prices differ by odometer reading?\n",
    "\n",
    "## 1. Importing Python Libraries"
   ]
  },
  {
   "cell_type": "code",
   "execution_count": 40,
   "id": "2400dd59",
   "metadata": {},
   "outputs": [],
   "source": [
    "# 1. Pandas for data manipulation and analysis\n",
    "import pandas as pd\n",
    "\n",
    "# 2. Numpy for numerical data maipulation and analysis\n",
    "import numpy as np\n",
    "\n",
    "# 3. Pyplot module from Matplotlib for data visualisation\n",
    "import matplotlib.pyplot as plt\n",
    "\n",
    "# 4. Seaborn for data visualisation\n",
    "import seaborn as sns \n",
    "\n",
    "# 5. Visualisation Style\n",
    "plt.style.use('fivethirtyeight')"
   ]
  },
  {
   "cell_type": "markdown",
   "id": "59e3d575",
   "metadata": {},
   "source": [
    "## 2. Loading the Dataset using Pandas"
   ]
  },
  {
   "cell_type": "code",
   "execution_count": 41,
   "id": "957ef398",
   "metadata": {},
   "outputs": [
    {
     "data": {
      "text/plain": [
       "(371539, 20)"
      ]
     },
     "execution_count": 41,
     "metadata": {},
     "output_type": "execute_result"
    }
   ],
   "source": [
    "# Read in dataset (csv file).\n",
    "df = pd.read_csv(r\"C:\\Users\\j\\Desktop\\PROJECTS\\autos.csv\", low_memory = False)\n",
    "\n",
    "# Display the number of rows and columns. \n",
    "df.shape"
   ]
  },
  {
   "cell_type": "markdown",
   "id": "05858aa0",
   "metadata": {},
   "source": [
    "The dataset has got **371,539** rows and **20** columns.\n",
    "\n",
    "A set of **50,000** records will be randomly sampled from **df** dataset and be assigned to a variable named **auto**."
   ]
  },
  {
   "cell_type": "code",
   "execution_count": 42,
   "id": "811ef260",
   "metadata": {},
   "outputs": [
    {
     "data": {
      "text/html": [
       "<div>\n",
       "<style scoped>\n",
       "    .dataframe tbody tr th:only-of-type {\n",
       "        vertical-align: middle;\n",
       "    }\n",
       "\n",
       "    .dataframe tbody tr th {\n",
       "        vertical-align: top;\n",
       "    }\n",
       "\n",
       "    .dataframe thead th {\n",
       "        text-align: right;\n",
       "    }\n",
       "</style>\n",
       "<table border=\"1\" class=\"dataframe\">\n",
       "  <thead>\n",
       "    <tr style=\"text-align: right;\">\n",
       "      <th></th>\n",
       "      <th>dateCrawled</th>\n",
       "      <th>name</th>\n",
       "      <th>seller</th>\n",
       "      <th>offerType</th>\n",
       "      <th>price</th>\n",
       "      <th>abtest</th>\n",
       "      <th>vehicleType</th>\n",
       "      <th>yearOfRegistration</th>\n",
       "      <th>gearbox</th>\n",
       "      <th>powerPS</th>\n",
       "      <th>model</th>\n",
       "      <th>kilometer</th>\n",
       "      <th>monthOfRegistration</th>\n",
       "      <th>fuelType</th>\n",
       "      <th>brand</th>\n",
       "      <th>notRepairedDamage</th>\n",
       "      <th>dateCreated</th>\n",
       "      <th>nrOfPictures</th>\n",
       "      <th>postalCode</th>\n",
       "      <th>lastSeen</th>\n",
       "    </tr>\n",
       "  </thead>\n",
       "  <tbody>\n",
       "    <tr>\n",
       "      <th>0</th>\n",
       "      <td>07-03-16 23:56</td>\n",
       "      <td>BMW_116i_TÜV_neu!_Einparkhilfe__Sitzheizung</td>\n",
       "      <td>privat</td>\n",
       "      <td>Angebot</td>\n",
       "      <td>6950.0</td>\n",
       "      <td>test</td>\n",
       "      <td>limousine</td>\n",
       "      <td>2007.0</td>\n",
       "      <td>manuell</td>\n",
       "      <td>116.0</td>\n",
       "      <td>1er</td>\n",
       "      <td>125000</td>\n",
       "      <td>2.0</td>\n",
       "      <td>benzin</td>\n",
       "      <td>bmw</td>\n",
       "      <td>nein</td>\n",
       "      <td>07-03-16 00:00</td>\n",
       "      <td>0.0</td>\n",
       "      <td>24837.0</td>\n",
       "      <td>11-03-16 14:46</td>\n",
       "    </tr>\n",
       "    <tr>\n",
       "      <th>1</th>\n",
       "      <td>25-03-16 18:49</td>\n",
       "      <td>Volkswagen_Golf_Cabrio_1.9_TDI</td>\n",
       "      <td>privat</td>\n",
       "      <td>Angebot</td>\n",
       "      <td>3990.0</td>\n",
       "      <td>test</td>\n",
       "      <td>cabrio</td>\n",
       "      <td>2001.0</td>\n",
       "      <td>manuell</td>\n",
       "      <td>90.0</td>\n",
       "      <td>golf</td>\n",
       "      <td>150000</td>\n",
       "      <td>4.0</td>\n",
       "      <td>diesel</td>\n",
       "      <td>volkswagen</td>\n",
       "      <td>nein</td>\n",
       "      <td>25-03-16 00:00</td>\n",
       "      <td>0.0</td>\n",
       "      <td>37081.0</td>\n",
       "      <td>01-04-16 03:46</td>\n",
       "    </tr>\n",
       "    <tr>\n",
       "      <th>2</th>\n",
       "      <td>07-03-16 23:54</td>\n",
       "      <td>Polo_GTI_DSG</td>\n",
       "      <td>privat</td>\n",
       "      <td>Angebot</td>\n",
       "      <td>12900.0</td>\n",
       "      <td>test</td>\n",
       "      <td>kleinwagen</td>\n",
       "      <td>2011.0</td>\n",
       "      <td>automatik</td>\n",
       "      <td>0.0</td>\n",
       "      <td>polo</td>\n",
       "      <td>60000</td>\n",
       "      <td>8.0</td>\n",
       "      <td>NaN</td>\n",
       "      <td>volkswagen</td>\n",
       "      <td>NaN</td>\n",
       "      <td>07-03-16 00:00</td>\n",
       "      <td>0.0</td>\n",
       "      <td>94474.0</td>\n",
       "      <td>05-04-16 13:47</td>\n",
       "    </tr>\n",
       "    <tr>\n",
       "      <th>3</th>\n",
       "      <td>10-03-16 19:56</td>\n",
       "      <td>Volkswagen_Golf_1.6_Edition</td>\n",
       "      <td>privat</td>\n",
       "      <td>Angebot</td>\n",
       "      <td>2100.0</td>\n",
       "      <td>control</td>\n",
       "      <td>limousine</td>\n",
       "      <td>2000.0</td>\n",
       "      <td>manuell</td>\n",
       "      <td>137.0</td>\n",
       "      <td>golf</td>\n",
       "      <td>150000</td>\n",
       "      <td>4.0</td>\n",
       "      <td>benzin</td>\n",
       "      <td>volkswagen</td>\n",
       "      <td>nein</td>\n",
       "      <td>10-03-16 00:00</td>\n",
       "      <td>0.0</td>\n",
       "      <td>88499.0</td>\n",
       "      <td>02-04-16 08:18</td>\n",
       "    </tr>\n",
       "    <tr>\n",
       "      <th>4</th>\n",
       "      <td>15-03-16 16:38</td>\n",
       "      <td>bmw_320diesel</td>\n",
       "      <td>privat</td>\n",
       "      <td>Angebot</td>\n",
       "      <td>0.0</td>\n",
       "      <td>control</td>\n",
       "      <td>limousine</td>\n",
       "      <td>2013.0</td>\n",
       "      <td>automatik</td>\n",
       "      <td>167.0</td>\n",
       "      <td>3er</td>\n",
       "      <td>150000</td>\n",
       "      <td>1.0</td>\n",
       "      <td>diesel</td>\n",
       "      <td>bmw</td>\n",
       "      <td>nein</td>\n",
       "      <td>15-03-16 00:00</td>\n",
       "      <td>0.0</td>\n",
       "      <td>12099.0</td>\n",
       "      <td>06-04-16 10:15</td>\n",
       "    </tr>\n",
       "  </tbody>\n",
       "</table>\n",
       "</div>"
      ],
      "text/plain": [
       "      dateCrawled                                         name  seller  \\\n",
       "0  07-03-16 23:56  BMW_116i_TÜV_neu!_Einparkhilfe__Sitzheizung  privat   \n",
       "1  25-03-16 18:49               Volkswagen_Golf_Cabrio_1.9_TDI  privat   \n",
       "2  07-03-16 23:54                                 Polo_GTI_DSG  privat   \n",
       "3  10-03-16 19:56                  Volkswagen_Golf_1.6_Edition  privat   \n",
       "4  15-03-16 16:38                                bmw_320diesel  privat   \n",
       "\n",
       "  offerType    price   abtest vehicleType  yearOfRegistration    gearbox  \\\n",
       "0   Angebot   6950.0     test   limousine              2007.0    manuell   \n",
       "1   Angebot   3990.0     test      cabrio              2001.0    manuell   \n",
       "2   Angebot  12900.0     test  kleinwagen              2011.0  automatik   \n",
       "3   Angebot   2100.0  control   limousine              2000.0    manuell   \n",
       "4   Angebot      0.0  control   limousine              2013.0  automatik   \n",
       "\n",
       "   powerPS model kilometer  monthOfRegistration fuelType       brand  \\\n",
       "0    116.0   1er    125000                  2.0   benzin         bmw   \n",
       "1     90.0  golf    150000                  4.0   diesel  volkswagen   \n",
       "2      0.0  polo     60000                  8.0      NaN  volkswagen   \n",
       "3    137.0  golf    150000                  4.0   benzin  volkswagen   \n",
       "4    167.0   3er    150000                  1.0   diesel         bmw   \n",
       "\n",
       "  notRepairedDamage     dateCreated  nrOfPictures  postalCode        lastSeen  \n",
       "0              nein  07-03-16 00:00           0.0     24837.0  11-03-16 14:46  \n",
       "1              nein  25-03-16 00:00           0.0     37081.0  01-04-16 03:46  \n",
       "2               NaN  07-03-16 00:00           0.0     94474.0  05-04-16 13:47  \n",
       "3              nein  10-03-16 00:00           0.0     88499.0  02-04-16 08:18  \n",
       "4              nein  15-03-16 00:00           0.0     12099.0  06-04-16 10:15  "
      ]
     },
     "execution_count": 42,
     "metadata": {},
     "output_type": "execute_result"
    }
   ],
   "source": [
    "# Random Sampling of 50,000 rows from \"df\"\n",
    "auto = df.sample(n = 50000, random_state = 1, ignore_index = True)\n",
    "\n",
    "# Display the first five rows from auto\n",
    "auto.head()"
   ]
  },
  {
   "cell_type": "code",
   "execution_count": 43,
   "id": "295013dc",
   "metadata": {},
   "outputs": [
    {
     "data": {
      "text/plain": [
       "(50000, 20)"
      ]
     },
     "execution_count": 43,
     "metadata": {},
     "output_type": "execute_result"
    }
   ],
   "source": [
    "# Display the number of rows and columns in the sampled dataset\n",
    "auto.shape"
   ]
  },
  {
   "cell_type": "markdown",
   "id": "1abb8cac",
   "metadata": {},
   "source": [
    "The new _**auto**_ dataset has got **50,000** rows and **20** columns.\n",
    "\n",
    "The next step is to display some fundamental information of the **auto** dataset:"
   ]
  },
  {
   "cell_type": "code",
   "execution_count": 44,
   "id": "4cd8a2f4",
   "metadata": {},
   "outputs": [
    {
     "name": "stdout",
     "output_type": "stream",
     "text": [
      "<class 'pandas.core.frame.DataFrame'>\n",
      "RangeIndex: 50000 entries, 0 to 49999\n",
      "Data columns (total 20 columns):\n",
      " #   Column               Non-Null Count  Dtype  \n",
      "---  ------               --------------  -----  \n",
      " 0   dateCrawled          50000 non-null  object \n",
      " 1   name                 50000 non-null  object \n",
      " 2   seller               50000 non-null  object \n",
      " 3   offerType            50000 non-null  object \n",
      " 4   price                50000 non-null  float64\n",
      " 5   abtest               50000 non-null  object \n",
      " 6   vehicleType          44912 non-null  object \n",
      " 7   yearOfRegistration   49999 non-null  float64\n",
      " 8   gearbox              47304 non-null  object \n",
      " 9   powerPS              50000 non-null  float64\n",
      " 10  model                47219 non-null  object \n",
      " 11  kilometer            50000 non-null  object \n",
      " 12  monthOfRegistration  49999 non-null  float64\n",
      " 13  fuelType             45547 non-null  object \n",
      " 14  brand                49999 non-null  object \n",
      " 15  notRepairedDamage    40213 non-null  object \n",
      " 16  dateCreated          49999 non-null  object \n",
      " 17  nrOfPictures         49999 non-null  float64\n",
      " 18  postalCode           49999 non-null  float64\n",
      " 19  lastSeen             49999 non-null  object \n",
      "dtypes: float64(6), object(14)\n",
      "memory usage: 7.6+ MB\n"
     ]
    }
   ],
   "source": [
    "auto.info()"
   ]
  },
  {
   "cell_type": "markdown",
   "id": "108bc5a4",
   "metadata": {},
   "source": [
    "## _Observations:_\n",
    "\n",
    "  * The dataset has got 50,000 rows ranging from **0** to **49999**.\n",
    "  * There are 20 columns, most of which are strings.\n",
    "  * Some columns have got **missing** values\n",
    "  * Some columns have got data types that are not normal. For instance,  The expectation is for *dateCrawled* column to have **datetime** data type.\n",
    "  * The column names use **camelCase** instead of python's preferred **snakecase**.\n",
    "  * Some columns have got **Germany** worded values; values that are presented in Germany language."
   ]
  },
  {
   "cell_type": "markdown",
   "id": "a32d26de",
   "metadata": {},
   "source": [
    "## 3. Data Cleaning\n",
    "\n",
    "### Cleaning Column Names\n",
    "\n",
    "Let us convert the column names from **_camelCase_** to **_snakecase_** and change some of the column names so that they become more descriptive. We are also going to introduce an **underscore** into some column names to represent a space."
   ]
  },
  {
   "cell_type": "code",
   "execution_count": 45,
   "id": "e2073c92",
   "metadata": {},
   "outputs": [
    {
     "data": {
      "text/plain": [
       "Index(['date_crawled', 'name', 'seller', 'offer_type', 'price', 'ab_test',\n",
       "       'vehicle_type', 'registration_year', 'gear_box', 'power_ps', 'model',\n",
       "       'odometer', 'registration_month', 'fuel_type', 'brand',\n",
       "       'unrepaired_damage', 'ad_created', 'number_of_pictures', 'postal_code',\n",
       "       'last_seen'],\n",
       "      dtype='object')"
      ]
     },
     "execution_count": 45,
     "metadata": {},
     "output_type": "execute_result"
    }
   ],
   "source": [
    "# camelCase to snakecase\n",
    "auto.columns = auto.columns.str.lower()\n",
    "\n",
    "# renaming the some columns\n",
    "auto.rename(columns = {'yearofregistration': 'registration_year', 'monthofregistration':\\\n",
    "                       'registration_month', 'notrepaireddamage': 'unrepaired_damage',\\\n",
    "                       'datecreated': 'ad_created', 'nrofpictures': 'number_of_pictures',\\\n",
    "                      'kilometer': 'odometer'}, inplace = True)\n",
    "\n",
    "# Introducing an underscore in some columns\n",
    "auto.columns = ['date_crawled', 'name', 'seller', 'offer_type', 'price', 'ab_test',\n",
    "       'vehicle_type', 'registration_year', 'gear_box', 'power_ps', 'model',\n",
    "       'odometer', 'registration_month', 'fuel_type', 'brand',\n",
    "       'unrepaired_damage', 'ad_created', 'number_of_pictures', 'postal_code',\n",
    "       'last_seen']\n",
    "\n",
    "# Displaying column names to check if they have been successfully cleaned\n",
    "auto.columns"
   ]
  },
  {
   "cell_type": "markdown",
   "id": "734dd199",
   "metadata": {},
   "source": [
    "### Checking for and Removing Duplicates\n",
    "\n",
    "We are going to check for duplicate rows. If we have duplicate records we are going to remove them from our dataset."
   ]
  },
  {
   "cell_type": "code",
   "execution_count": 46,
   "id": "75695e9b",
   "metadata": {},
   "outputs": [
    {
     "data": {
      "text/plain": [
       "2"
      ]
     },
     "execution_count": 46,
     "metadata": {},
     "output_type": "execute_result"
    }
   ],
   "source": [
    "# Check for duplicate rows\n",
    "auto.duplicated().sum()"
   ]
  },
  {
   "cell_type": "markdown",
   "id": "086e9ec1",
   "metadata": {},
   "source": [
    "We have **2** duplicate records as identified from the code above. We are going to remove them in the following exercise."
   ]
  },
  {
   "cell_type": "code",
   "execution_count": 47,
   "id": "64fe7fcc",
   "metadata": {},
   "outputs": [
    {
     "data": {
      "text/plain": [
       "(49998, 20)"
      ]
     },
     "execution_count": 47,
     "metadata": {},
     "output_type": "execute_result"
    }
   ],
   "source": [
    "# Remove duplicate rows\n",
    "auto.drop_duplicates(inplace = True, ignore_index = True)\n",
    "\n",
    "# Display the number of remaining rows and columns\n",
    "auto.shape"
   ]
  },
  {
   "cell_type": "markdown",
   "id": "3a184b85",
   "metadata": {},
   "source": [
    "We are remaining with **49,998** records and **20** columns after dropping duplicate rows."
   ]
  },
  {
   "cell_type": "markdown",
   "id": "6071e302",
   "metadata": {},
   "source": [
    "### Converting Data Types\n",
    "\n",
    "* We have columns with **numeric** data that has been stored as texts (**strings**).\n",
    "* There are columns with **dates** that are stored as texts.\n",
    "* We also have some columns where all or almost all values are the same. These can often be dropped as they do not have useful information.\n",
    "\n",
    "We can determine which columns to clean by exploring the data. We are about to make a quick exploration to determine which columns to clean further.\n"
   ]
  },
  {
   "cell_type": "code",
   "execution_count": 48,
   "id": "9f40120e",
   "metadata": {},
   "outputs": [
    {
     "data": {
      "text/plain": [
       "date_crawled           object\n",
       "name                   object\n",
       "seller                 object\n",
       "offer_type             object\n",
       "price                 float64\n",
       "ab_test                object\n",
       "vehicle_type           object\n",
       "registration_year     float64\n",
       "gear_box               object\n",
       "power_ps              float64\n",
       "model                  object\n",
       "odometer               object\n",
       "registration_month    float64\n",
       "fuel_type              object\n",
       "brand                  object\n",
       "unrepaired_damage      object\n",
       "ad_created             object\n",
       "number_of_pictures    float64\n",
       "postal_code           float64\n",
       "last_seen              object\n",
       "dtype: object"
      ]
     },
     "execution_count": 48,
     "metadata": {},
     "output_type": "execute_result"
    }
   ],
   "source": [
    "# Checking data types\n",
    "auto.dtypes"
   ]
  },
  {
   "cell_type": "markdown",
   "id": "8280693c",
   "metadata": {},
   "source": [
    "`odometer` is an **object** while it is supposed to be an **integer**. Let us convert it to an integer data type.\n",
    "\n",
    "But first, we will find out what made python to recognise `odometer`as an object in the first place. This usually happens when there is a **text** value in an array of integers or floats."
   ]
  },
  {
   "cell_type": "code",
   "execution_count": 49,
   "id": "e5537dad",
   "metadata": {},
   "outputs": [
    {
     "data": {
      "text/plain": [
       "150000            32453\n",
       "125000             5166\n",
       "100000             2153\n",
       "90000              1667\n",
       "80000              1403\n",
       "70000              1347\n",
       "60000              1165\n",
       "50000              1007\n",
       "5000                955\n",
       "40000               874\n",
       "30000               835\n",
       "20000               733\n",
       "10000               239\n",
       "30-03-16 00:44        1\n",
       "Name: odometer, dtype: int64"
      ]
     },
     "execution_count": 49,
     "metadata": {},
     "output_type": "execute_result"
    }
   ],
   "source": [
    "auto.odometer.value_counts()"
   ]
  },
  {
   "cell_type": "markdown",
   "id": "b555bae9",
   "metadata": {},
   "source": [
    "The above output indicates that this `odometer` has a **typo** in the form of a **date** stored as a string. The value \"30-03-16 00:44\" is not supposed to be in this column. We are going to remove this record from the dataframe and convert the `odometer` to integer data type."
   ]
  },
  {
   "cell_type": "code",
   "execution_count": 50,
   "id": "2b98cedb",
   "metadata": {},
   "outputs": [
    {
     "data": {
      "text/plain": [
       "dtype('int64')"
      ]
     },
     "execution_count": 50,
     "metadata": {},
     "output_type": "execute_result"
    }
   ],
   "source": [
    "# removing a typo from the \"odometer\" column\n",
    "auto = auto[auto['odometer'] != '30-03-16 00:44']\n",
    "\n",
    "# converting datatype to int64\n",
    "auto['odometer'] = auto['odometer'].astype('int64')\n",
    "\n",
    "# displaying the \"odometer\" data type\n",
    "auto['odometer'].dtype"
   ]
  },
  {
   "cell_type": "markdown",
   "id": "e3a81298",
   "metadata": {},
   "source": [
    "We can see that `odometer`data type is now **int64** which is an integer."
   ]
  },
  {
   "cell_type": "markdown",
   "id": "455ab8e9",
   "metadata": {},
   "source": [
    "`postal_code` is a float64 data type while it is supposed to be an object. Lets convert `postal_code`to an object."
   ]
  },
  {
   "cell_type": "code",
   "execution_count": 51,
   "id": "7d3f11a5",
   "metadata": {},
   "outputs": [
    {
     "data": {
      "text/plain": [
       "dtype('O')"
      ]
     },
     "execution_count": 51,
     "metadata": {},
     "output_type": "execute_result"
    }
   ],
   "source": [
    "# postal_code from float to an object\n",
    "auto['postal_code'] = auto['postal_code'].astype('O')\n",
    "\n",
    "# display 'postal_code' data type\n",
    "auto['postal_code'].dtype"
   ]
  },
  {
   "cell_type": "markdown",
   "id": "a30ce8d1",
   "metadata": {},
   "source": [
    "`postal_code`has successfuly been converted to an object data type.\n",
    "\n",
    "Lets  now convert `date_crawled`, `ad_created`and `last_seen`to  **datetime** data types."
   ]
  },
  {
   "cell_type": "code",
   "execution_count": 52,
   "id": "375b14a1",
   "metadata": {},
   "outputs": [
    {
     "data": {
      "text/plain": [
       "date_crawled    datetime64[ns]\n",
       "ad_created      datetime64[ns]\n",
       "last_seen       datetime64[ns]\n",
       "dtype: object"
      ]
     },
     "execution_count": 52,
     "metadata": {},
     "output_type": "execute_result"
    }
   ],
   "source": [
    "# convert \"date_crawled\" to datetime.\n",
    "auto['date_crawled'] = pd.to_datetime(auto['date_crawled'])\n",
    "\n",
    "# convert \"ad_created\" to datetime.\n",
    "auto['ad_created'] = pd.to_datetime(auto['ad_created'])\n",
    "\n",
    "# convert \"last_seen\" to datetime\n",
    "auto['last_seen'] = pd.to_datetime(auto['last_seen'])\n",
    "\n",
    "# display data type for \"date_crawled\", \"ad_created\" and \"last_seen\"\n",
    "auto[[\"date_crawled\", \"ad_created\", \"last_seen\"]].dtypes"
   ]
  },
  {
   "cell_type": "markdown",
   "id": "3e905f89",
   "metadata": {},
   "source": [
    "We can see that our date columns have successfully been converted to **datetime64[ns]**"
   ]
  },
  {
   "cell_type": "markdown",
   "id": "52a4ed7b",
   "metadata": {},
   "source": [
    "It has also just come to our attention that odometer is lead in **kilometers**,  therefore we have to indicate that distance is measured in kilometers. We will convert `odometer` column name to `odometer_km`."
   ]
  },
  {
   "cell_type": "code",
   "execution_count": 53,
   "id": "54876b95",
   "metadata": {},
   "outputs": [],
   "source": [
    "# rename \"odometer\" to \"odometer_km\"\n",
    "auto.rename(columns = {'odometer': 'odometer_km'}, inplace = True)"
   ]
  },
  {
   "cell_type": "markdown",
   "id": "bd30582e",
   "metadata": {},
   "source": [
    "Now that our dataset is **_Presumably_** clean, let us look at some **descriptive statistics**. These might as well uncover some areas that may need more cleaning or tell us which columns to remove from our dataset."
   ]
  },
  {
   "cell_type": "code",
   "execution_count": 54,
   "id": "ae196c15",
   "metadata": {},
   "outputs": [
    {
     "data": {
      "text/html": [
       "<div>\n",
       "<style scoped>\n",
       "    .dataframe tbody tr th:only-of-type {\n",
       "        vertical-align: middle;\n",
       "    }\n",
       "\n",
       "    .dataframe tbody tr th {\n",
       "        vertical-align: top;\n",
       "    }\n",
       "\n",
       "    .dataframe thead th {\n",
       "        text-align: right;\n",
       "    }\n",
       "</style>\n",
       "<table border=\"1\" class=\"dataframe\">\n",
       "  <thead>\n",
       "    <tr style=\"text-align: right;\">\n",
       "      <th></th>\n",
       "      <th>date_crawled</th>\n",
       "      <th>name</th>\n",
       "      <th>seller</th>\n",
       "      <th>offer_type</th>\n",
       "      <th>price</th>\n",
       "      <th>ab_test</th>\n",
       "      <th>vehicle_type</th>\n",
       "      <th>registration_year</th>\n",
       "      <th>gear_box</th>\n",
       "      <th>power_ps</th>\n",
       "      <th>model</th>\n",
       "      <th>odometer_km</th>\n",
       "      <th>registration_month</th>\n",
       "      <th>fuel_type</th>\n",
       "      <th>brand</th>\n",
       "      <th>unrepaired_damage</th>\n",
       "      <th>ad_created</th>\n",
       "      <th>number_of_pictures</th>\n",
       "      <th>postal_code</th>\n",
       "      <th>last_seen</th>\n",
       "    </tr>\n",
       "  </thead>\n",
       "  <tbody>\n",
       "    <tr>\n",
       "      <th>count</th>\n",
       "      <td>49997</td>\n",
       "      <td>49997</td>\n",
       "      <td>49997</td>\n",
       "      <td>49997</td>\n",
       "      <td>4.999700e+04</td>\n",
       "      <td>49997</td>\n",
       "      <td>44909</td>\n",
       "      <td>49997.000000</td>\n",
       "      <td>47301</td>\n",
       "      <td>49997.000000</td>\n",
       "      <td>47216</td>\n",
       "      <td>49997.000000</td>\n",
       "      <td>49997.000000</td>\n",
       "      <td>45545</td>\n",
       "      <td>49997</td>\n",
       "      <td>40211</td>\n",
       "      <td>49997</td>\n",
       "      <td>49997.0</td>\n",
       "      <td>49997.0</td>\n",
       "      <td>49997</td>\n",
       "    </tr>\n",
       "    <tr>\n",
       "      <th>unique</th>\n",
       "      <td>NaN</td>\n",
       "      <td>38779</td>\n",
       "      <td>1</td>\n",
       "      <td>1</td>\n",
       "      <td>NaN</td>\n",
       "      <td>2</td>\n",
       "      <td>8</td>\n",
       "      <td>NaN</td>\n",
       "      <td>2</td>\n",
       "      <td>NaN</td>\n",
       "      <td>248</td>\n",
       "      <td>NaN</td>\n",
       "      <td>NaN</td>\n",
       "      <td>7</td>\n",
       "      <td>40</td>\n",
       "      <td>2</td>\n",
       "      <td>NaN</td>\n",
       "      <td>NaN</td>\n",
       "      <td>7039.0</td>\n",
       "      <td>NaN</td>\n",
       "    </tr>\n",
       "    <tr>\n",
       "      <th>top</th>\n",
       "      <td>NaN</td>\n",
       "      <td>Ford_Fiesta</td>\n",
       "      <td>privat</td>\n",
       "      <td>Angebot</td>\n",
       "      <td>NaN</td>\n",
       "      <td>test</td>\n",
       "      <td>limousine</td>\n",
       "      <td>NaN</td>\n",
       "      <td>manuell</td>\n",
       "      <td>NaN</td>\n",
       "      <td>golf</td>\n",
       "      <td>NaN</td>\n",
       "      <td>NaN</td>\n",
       "      <td>benzin</td>\n",
       "      <td>volkswagen</td>\n",
       "      <td>nein</td>\n",
       "      <td>NaN</td>\n",
       "      <td>NaN</td>\n",
       "      <td>10115.0</td>\n",
       "      <td>NaN</td>\n",
       "    </tr>\n",
       "    <tr>\n",
       "      <th>freq</th>\n",
       "      <td>NaN</td>\n",
       "      <td>103</td>\n",
       "      <td>49997</td>\n",
       "      <td>49997</td>\n",
       "      <td>NaN</td>\n",
       "      <td>25874</td>\n",
       "      <td>12946</td>\n",
       "      <td>NaN</td>\n",
       "      <td>37032</td>\n",
       "      <td>NaN</td>\n",
       "      <td>4092</td>\n",
       "      <td>NaN</td>\n",
       "      <td>NaN</td>\n",
       "      <td>30176</td>\n",
       "      <td>10761</td>\n",
       "      <td>35315</td>\n",
       "      <td>NaN</td>\n",
       "      <td>NaN</td>\n",
       "      <td>106.0</td>\n",
       "      <td>NaN</td>\n",
       "    </tr>\n",
       "    <tr>\n",
       "      <th>mean</th>\n",
       "      <td>2016-04-27 16:13:59.649579008</td>\n",
       "      <td>NaN</td>\n",
       "      <td>NaN</td>\n",
       "      <td>NaN</td>\n",
       "      <td>1.520908e+04</td>\n",
       "      <td>NaN</td>\n",
       "      <td>NaN</td>\n",
       "      <td>2004.234234</td>\n",
       "      <td>NaN</td>\n",
       "      <td>115.065224</td>\n",
       "      <td>NaN</td>\n",
       "      <td>125760.445627</td>\n",
       "      <td>5.745685</td>\n",
       "      <td>NaN</td>\n",
       "      <td>NaN</td>\n",
       "      <td>NaN</td>\n",
       "      <td>2016-04-26 16:26:03.357801472</td>\n",
       "      <td>0.0</td>\n",
       "      <td>NaN</td>\n",
       "      <td>2016-05-08 17:33:58.011480576</td>\n",
       "    </tr>\n",
       "    <tr>\n",
       "      <th>min</th>\n",
       "      <td>2016-01-04 00:06:00</td>\n",
       "      <td>NaN</td>\n",
       "      <td>NaN</td>\n",
       "      <td>NaN</td>\n",
       "      <td>0.000000e+00</td>\n",
       "      <td>NaN</td>\n",
       "      <td>NaN</td>\n",
       "      <td>1000.000000</td>\n",
       "      <td>NaN</td>\n",
       "      <td>0.000000</td>\n",
       "      <td>NaN</td>\n",
       "      <td>5000.000000</td>\n",
       "      <td>0.000000</td>\n",
       "      <td>NaN</td>\n",
       "      <td>NaN</td>\n",
       "      <td>NaN</td>\n",
       "      <td>2015-11-06 00:00:00</td>\n",
       "      <td>0.0</td>\n",
       "      <td>NaN</td>\n",
       "      <td>2016-01-04 00:15:00</td>\n",
       "    </tr>\n",
       "    <tr>\n",
       "      <th>25%</th>\n",
       "      <td>2016-03-17 21:47:00</td>\n",
       "      <td>NaN</td>\n",
       "      <td>NaN</td>\n",
       "      <td>NaN</td>\n",
       "      <td>1.100000e+03</td>\n",
       "      <td>NaN</td>\n",
       "      <td>NaN</td>\n",
       "      <td>1999.000000</td>\n",
       "      <td>NaN</td>\n",
       "      <td>69.000000</td>\n",
       "      <td>NaN</td>\n",
       "      <td>125000.000000</td>\n",
       "      <td>3.000000</td>\n",
       "      <td>NaN</td>\n",
       "      <td>NaN</td>\n",
       "      <td>NaN</td>\n",
       "      <td>2016-03-17 00:00:00</td>\n",
       "      <td>0.0</td>\n",
       "      <td>NaN</td>\n",
       "      <td>2016-03-23 13:17:00</td>\n",
       "    </tr>\n",
       "    <tr>\n",
       "      <th>50%</th>\n",
       "      <td>2016-03-25 21:36:00</td>\n",
       "      <td>NaN</td>\n",
       "      <td>NaN</td>\n",
       "      <td>NaN</td>\n",
       "      <td>2.950000e+03</td>\n",
       "      <td>NaN</td>\n",
       "      <td>NaN</td>\n",
       "      <td>2003.000000</td>\n",
       "      <td>NaN</td>\n",
       "      <td>105.000000</td>\n",
       "      <td>NaN</td>\n",
       "      <td>150000.000000</td>\n",
       "      <td>6.000000</td>\n",
       "      <td>NaN</td>\n",
       "      <td>NaN</td>\n",
       "      <td>NaN</td>\n",
       "      <td>2016-03-25 00:00:00</td>\n",
       "      <td>0.0</td>\n",
       "      <td>NaN</td>\n",
       "      <td>2016-05-04 15:16:00</td>\n",
       "    </tr>\n",
       "    <tr>\n",
       "      <th>75%</th>\n",
       "      <td>2016-05-03 18:45:00</td>\n",
       "      <td>NaN</td>\n",
       "      <td>NaN</td>\n",
       "      <td>NaN</td>\n",
       "      <td>7.200000e+03</td>\n",
       "      <td>NaN</td>\n",
       "      <td>NaN</td>\n",
       "      <td>2008.000000</td>\n",
       "      <td>NaN</td>\n",
       "      <td>150.000000</td>\n",
       "      <td>NaN</td>\n",
       "      <td>150000.000000</td>\n",
       "      <td>9.000000</td>\n",
       "      <td>NaN</td>\n",
       "      <td>NaN</td>\n",
       "      <td>NaN</td>\n",
       "      <td>2016-05-03 00:00:00</td>\n",
       "      <td>0.0</td>\n",
       "      <td>NaN</td>\n",
       "      <td>2016-06-04 18:46:00</td>\n",
       "    </tr>\n",
       "    <tr>\n",
       "      <th>max</th>\n",
       "      <td>2016-12-03 23:58:00</td>\n",
       "      <td>NaN</td>\n",
       "      <td>NaN</td>\n",
       "      <td>NaN</td>\n",
       "      <td>1.000000e+08</td>\n",
       "      <td>NaN</td>\n",
       "      <td>NaN</td>\n",
       "      <td>9999.000000</td>\n",
       "      <td>NaN</td>\n",
       "      <td>13616.000000</td>\n",
       "      <td>NaN</td>\n",
       "      <td>150000.000000</td>\n",
       "      <td>12.000000</td>\n",
       "      <td>NaN</td>\n",
       "      <td>NaN</td>\n",
       "      <td>NaN</td>\n",
       "      <td>2016-12-03 00:00:00</td>\n",
       "      <td>0.0</td>\n",
       "      <td>NaN</td>\n",
       "      <td>2016-12-03 23:47:00</td>\n",
       "    </tr>\n",
       "    <tr>\n",
       "      <th>std</th>\n",
       "      <td>NaN</td>\n",
       "      <td>NaN</td>\n",
       "      <td>NaN</td>\n",
       "      <td>NaN</td>\n",
       "      <td>9.031668e+05</td>\n",
       "      <td>NaN</td>\n",
       "      <td>NaN</td>\n",
       "      <td>69.544665</td>\n",
       "      <td>NaN</td>\n",
       "      <td>184.286312</td>\n",
       "      <td>NaN</td>\n",
       "      <td>39998.796850</td>\n",
       "      <td>3.715138</td>\n",
       "      <td>NaN</td>\n",
       "      <td>NaN</td>\n",
       "      <td>NaN</td>\n",
       "      <td>NaN</td>\n",
       "      <td>0.0</td>\n",
       "      <td>NaN</td>\n",
       "      <td>NaN</td>\n",
       "    </tr>\n",
       "  </tbody>\n",
       "</table>\n",
       "</div>"
      ],
      "text/plain": [
       "                         date_crawled         name  seller offer_type  \\\n",
       "count                           49997        49997   49997      49997   \n",
       "unique                            NaN        38779       1          1   \n",
       "top                               NaN  Ford_Fiesta  privat    Angebot   \n",
       "freq                              NaN          103   49997      49997   \n",
       "mean    2016-04-27 16:13:59.649579008          NaN     NaN        NaN   \n",
       "min               2016-01-04 00:06:00          NaN     NaN        NaN   \n",
       "25%               2016-03-17 21:47:00          NaN     NaN        NaN   \n",
       "50%               2016-03-25 21:36:00          NaN     NaN        NaN   \n",
       "75%               2016-05-03 18:45:00          NaN     NaN        NaN   \n",
       "max               2016-12-03 23:58:00          NaN     NaN        NaN   \n",
       "std                               NaN          NaN     NaN        NaN   \n",
       "\n",
       "               price ab_test vehicle_type  registration_year gear_box  \\\n",
       "count   4.999700e+04   49997        44909       49997.000000    47301   \n",
       "unique           NaN       2            8                NaN        2   \n",
       "top              NaN    test    limousine                NaN  manuell   \n",
       "freq             NaN   25874        12946                NaN    37032   \n",
       "mean    1.520908e+04     NaN          NaN        2004.234234      NaN   \n",
       "min     0.000000e+00     NaN          NaN        1000.000000      NaN   \n",
       "25%     1.100000e+03     NaN          NaN        1999.000000      NaN   \n",
       "50%     2.950000e+03     NaN          NaN        2003.000000      NaN   \n",
       "75%     7.200000e+03     NaN          NaN        2008.000000      NaN   \n",
       "max     1.000000e+08     NaN          NaN        9999.000000      NaN   \n",
       "std     9.031668e+05     NaN          NaN          69.544665      NaN   \n",
       "\n",
       "            power_ps  model    odometer_km  registration_month fuel_type  \\\n",
       "count   49997.000000  47216   49997.000000        49997.000000     45545   \n",
       "unique           NaN    248            NaN                 NaN         7   \n",
       "top              NaN   golf            NaN                 NaN    benzin   \n",
       "freq             NaN   4092            NaN                 NaN     30176   \n",
       "mean      115.065224    NaN  125760.445627            5.745685       NaN   \n",
       "min         0.000000    NaN    5000.000000            0.000000       NaN   \n",
       "25%        69.000000    NaN  125000.000000            3.000000       NaN   \n",
       "50%       105.000000    NaN  150000.000000            6.000000       NaN   \n",
       "75%       150.000000    NaN  150000.000000            9.000000       NaN   \n",
       "max     13616.000000    NaN  150000.000000           12.000000       NaN   \n",
       "std       184.286312    NaN   39998.796850            3.715138       NaN   \n",
       "\n",
       "             brand unrepaired_damage                     ad_created  \\\n",
       "count        49997             40211                          49997   \n",
       "unique          40                 2                            NaN   \n",
       "top     volkswagen              nein                            NaN   \n",
       "freq         10761             35315                            NaN   \n",
       "mean           NaN               NaN  2016-04-26 16:26:03.357801472   \n",
       "min            NaN               NaN            2015-11-06 00:00:00   \n",
       "25%            NaN               NaN            2016-03-17 00:00:00   \n",
       "50%            NaN               NaN            2016-03-25 00:00:00   \n",
       "75%            NaN               NaN            2016-05-03 00:00:00   \n",
       "max            NaN               NaN            2016-12-03 00:00:00   \n",
       "std            NaN               NaN                            NaN   \n",
       "\n",
       "        number_of_pictures  postal_code                      last_seen  \n",
       "count              49997.0      49997.0                          49997  \n",
       "unique                 NaN       7039.0                            NaN  \n",
       "top                    NaN      10115.0                            NaN  \n",
       "freq                   NaN        106.0                            NaN  \n",
       "mean                   0.0          NaN  2016-05-08 17:33:58.011480576  \n",
       "min                    0.0          NaN            2016-01-04 00:15:00  \n",
       "25%                    0.0          NaN            2016-03-23 13:17:00  \n",
       "50%                    0.0          NaN            2016-05-04 15:16:00  \n",
       "75%                    0.0          NaN            2016-06-04 18:46:00  \n",
       "max                    0.0          NaN            2016-12-03 23:47:00  \n",
       "std                    0.0          NaN                            NaN  "
      ]
     },
     "execution_count": 54,
     "metadata": {},
     "output_type": "execute_result"
    }
   ],
   "source": [
    "# Descriptive statistics\n",
    "auto.describe(include='all', datetime_is_numeric = True)"
   ]
  },
  {
   "cell_type": "markdown",
   "id": "ecf0bbe3",
   "metadata": {},
   "source": [
    "### _Observation:_\n",
    "\n",
    "* Column `seller` has one value \"_privat_\" with a frequency of **49,997** which is equal to total number of rows.\n",
    "* Column `offer_type`has one vale \"_Angebot_\" with a frequency of **49, 997**.\n",
    "* Columns `gear_box`, `fuel_type` and `unrepaired_damage` contain values that are in **Germany** words. These columns will require further exploration and, if need be, change Germany words to their corresponding English words.\n",
    "* Our dataset has got missing values. We are going to inspect the columns with missing values and come up with a better way for dealing with the missing values. That is whether to leave them as they are, replace them with other values, deleting rows with missing values or dropping columns with missing values.\n",
    "* Column `price` seems to have outliers. We will have to explore it further and deal will outliers accordingly.\n",
    "* Column `registration_year` has got strange values. We have a minimum value of **1000** and a maximum of **9999**, these are unrealistic values because in the year **1000** there were no cars yet and the year **9999** is in the future. We will explore this column further and make the necessary adjustments.\n",
    "* The dataset was **crawled** (pull from the website) in the year **2016** as indicated by the minimum `date_crawled` of **2016-01-04** and maximum `date_crawled` of **2016-12-03** this means we expect to have data for secondhand cars that were initially registered in the years before **2016**.\n",
    "\n",
    "### Dropping Columns\n",
    "\n",
    "We are going to drop `seller`, `number_of_pictures` and `offer_type` because they have one **unique** value each, they are not necessary for our analysis."
   ]
  },
  {
   "cell_type": "code",
   "execution_count": 55,
   "id": "b44b0759",
   "metadata": {},
   "outputs": [
    {
     "data": {
      "text/plain": [
       "(49997, 17)"
      ]
     },
     "execution_count": 55,
     "metadata": {},
     "output_type": "execute_result"
    }
   ],
   "source": [
    "# Drop 'seller' and 'offer_type'\n",
    "auto.drop(['seller', 'offer_type', 'number_of_pictures'], axis = 1, inplace = True)\n",
    "auto.shape"
   ]
  },
  {
   "cell_type": "markdown",
   "id": "f221c65c",
   "metadata": {},
   "source": [
    "After dropping two columns we are remaing with **17** columns.\n",
    "\n",
    "### Correcting Missing Values\n",
    "\n",
    "We are going to find the number of missing values from every column and decide what to do with the missing values based on the nature of the values.\n",
    "\n",
    "We will first find the number of `null` values in our dataset."
   ]
  },
  {
   "cell_type": "code",
   "execution_count": 56,
   "id": "8e4f33a8",
   "metadata": {},
   "outputs": [
    {
     "data": {
      "text/plain": [
       "date_crawled             0\n",
       "name                     0\n",
       "price                    0\n",
       "ab_test                  0\n",
       "vehicle_type          5088\n",
       "registration_year        0\n",
       "gear_box              2696\n",
       "power_ps                 0\n",
       "model                 2781\n",
       "odometer_km              0\n",
       "registration_month       0\n",
       "fuel_type             4452\n",
       "brand                    0\n",
       "unrepaired_damage     9786\n",
       "ad_created               0\n",
       "postal_code              0\n",
       "last_seen                0\n",
       "dtype: int64"
      ]
     },
     "execution_count": 56,
     "metadata": {},
     "output_type": "execute_result"
    }
   ],
   "source": [
    "# Displaying the total number of missing values in our dataset\n",
    "auto.isnull().sum()"
   ]
  },
  {
   "cell_type": "markdown",
   "id": "9258a4fc",
   "metadata": {},
   "source": [
    "From the look of things, we have **5** columns with missing values. All these columns are categorical in nature. We are going to replace all the missing values with **\"UnKnown\"**. The following are the columns with missing values:\n",
    "\n",
    "* `vehicle_type`\n",
    "* `gear_box`\n",
    "* `model`\n",
    "* `fuel_type`\n",
    "* `unrepaired_damage`"
   ]
  },
  {
   "cell_type": "code",
   "execution_count": 57,
   "id": "e6659ddb",
   "metadata": {},
   "outputs": [
    {
     "data": {
      "text/plain": [
       "date_crawled          0\n",
       "name                  0\n",
       "price                 0\n",
       "ab_test               0\n",
       "vehicle_type          0\n",
       "registration_year     0\n",
       "gear_box              0\n",
       "power_ps              0\n",
       "model                 0\n",
       "odometer_km           0\n",
       "registration_month    0\n",
       "fuel_type             0\n",
       "brand                 0\n",
       "unrepaired_damage     0\n",
       "ad_created            0\n",
       "postal_code           0\n",
       "last_seen             0\n",
       "dtype: int64"
      ]
     },
     "execution_count": 57,
     "metadata": {},
     "output_type": "execute_result"
    }
   ],
   "source": [
    "# Replace missing values with \"UnKnown\"\n",
    "auto.fillna('UnKnown', inplace = True)\n",
    "\n",
    "# Checking our dataset if we still have missing values\n",
    "auto.isna().sum()"
   ]
  },
  {
   "cell_type": "markdown",
   "id": "02749275",
   "metadata": {},
   "source": [
    "We now have a dataset without missing values as indicated in the above output.\n",
    "\n",
    "### Cleaning `gear_box`, `fuel_type` and `unrepaired_damage` columns\n",
    "\n",
    "These columns contain non English words. We will have to identify these words, find their English meaning and replace them with English words.\n",
    "\n",
    "We will  start by exploring `gear_box` column.\n"
   ]
  },
  {
   "cell_type": "code",
   "execution_count": 58,
   "id": "90ae5eec",
   "metadata": {},
   "outputs": [
    {
     "data": {
      "text/plain": [
       "array(['manuell', 'automatik', 'UnKnown'], dtype=object)"
      ]
     },
     "execution_count": 58,
     "metadata": {},
     "output_type": "execute_result"
    }
   ],
   "source": [
    "# Displaying unique values in \"gear_box\" column\n",
    "auto['gear_box'].unique()"
   ]
  },
  {
   "cell_type": "markdown",
   "id": "67124886",
   "metadata": {},
   "source": [
    "`gear_box` contains the following unique values **manuell**, **automatik** and **Unknown**. **Manuell** means **Manual** while **automatik** means **Automatic**. We are going replace the English words for Germany words."
   ]
  },
  {
   "cell_type": "code",
   "execution_count": 59,
   "id": "d6f07f00",
   "metadata": {},
   "outputs": [
    {
     "data": {
      "text/plain": [
       "array(['Manual', 'Automatic', 'UnKnown'], dtype=object)"
      ]
     },
     "execution_count": 59,
     "metadata": {},
     "output_type": "execute_result"
    }
   ],
   "source": [
    "# Cleaning \"gear_box\" column\n",
    "auto['gear_box'] = auto['gear_box'].str.\\\n",
    "replace('manuell', 'Manual', regex = False).str.replace('automatik', 'Automatic', regex = False)\n",
    "\n",
    "# Display \"gear_box\" unique values\n",
    "auto['gear_box'].unique()"
   ]
  },
  {
   "cell_type": "markdown",
   "id": "eda7475c",
   "metadata": {},
   "source": [
    "`gear_box`has successfully been cleaned.\n",
    "\n",
    "Let us explore `fuel_type` column.\n"
   ]
  },
  {
   "cell_type": "code",
   "execution_count": 60,
   "id": "21e249dd",
   "metadata": {},
   "outputs": [
    {
     "data": {
      "text/plain": [
       "array(['benzin', 'diesel', 'UnKnown', 'lpg', 'cng', 'andere', 'hybrid',\n",
       "       'elektro'], dtype=object)"
      ]
     },
     "execution_count": 60,
     "metadata": {},
     "output_type": "execute_result"
    }
   ],
   "source": [
    "# Displaying \"fuel_type\" unique values\n",
    "auto['fuel_type'].unique()"
   ]
  },
  {
   "cell_type": "markdown",
   "id": "628f26be",
   "metadata": {},
   "source": [
    "In `fuel_type` column we are going to replace **benzin** with **_`petrol`_**, **andere** with **_`others`_** and **elektro** with **_`electric`_**."
   ]
  },
  {
   "cell_type": "code",
   "execution_count": 61,
   "id": "c706df0e",
   "metadata": {},
   "outputs": [
    {
     "data": {
      "text/plain": [
       "array(['petrol', 'diesel', 'unknown', 'lpg', 'cng', 'others', 'hybrid',\n",
       "       'electric'], dtype=object)"
      ]
     },
     "execution_count": 61,
     "metadata": {},
     "output_type": "execute_result"
    }
   ],
   "source": [
    "# Cleaning \"fuel_type\" column\n",
    "auto['fuel_type'] = auto['fuel_type'].str.replace('benzin', 'petrol', regex = True)\\\n",
    ".str.replace('andere', 'others', regex = False).str.replace('elektro', 'electric', regex = False)\\\n",
    ".str.replace('UnKnown', 'unknown', regex = False)\n",
    "\n",
    "# Display \"fuel_type\" unique values\n",
    "auto['fuel_type'].unique()"
   ]
  },
  {
   "cell_type": "markdown",
   "id": "4922417a",
   "metadata": {},
   "source": [
    "`fuel_type` has successfully been cleaned.\n",
    "\n",
    "Its time we explore `unrepaired_damage`column."
   ]
  },
  {
   "cell_type": "code",
   "execution_count": 62,
   "id": "6104614f",
   "metadata": {},
   "outputs": [
    {
     "data": {
      "text/plain": [
       "array(['nein', 'UnKnown', 'ja'], dtype=object)"
      ]
     },
     "execution_count": 62,
     "metadata": {},
     "output_type": "execute_result"
    }
   ],
   "source": [
    "# Displaying \"unrepaired_damage\" unique values\n",
    "auto['unrepaired_damage'].unique()"
   ]
  },
  {
   "cell_type": "markdown",
   "id": "0db01949",
   "metadata": {},
   "source": [
    "We have **nein** for **_No_** and **ja** for **Yes**. Lets us replace these values accordingly."
   ]
  },
  {
   "cell_type": "code",
   "execution_count": 63,
   "id": "3ba33880",
   "metadata": {},
   "outputs": [
    {
     "data": {
      "text/plain": [
       "array(['No', 'UnKnown', 'Yes'], dtype=object)"
      ]
     },
     "execution_count": 63,
     "metadata": {},
     "output_type": "execute_result"
    }
   ],
   "source": [
    "# Cleaning \"unrepaired_damage\" column\n",
    "auto['unrepaired_damage'] = auto['unrepaired_damage'].\\\n",
    "str.replace('nein', 'No', regex = False).str.replace('ja', 'Yes', regex = False)\n",
    "\n",
    "# Display \"unrepaired_damage\" unique values\n",
    "auto['unrepaired_damage'].unique()"
   ]
  },
  {
   "cell_type": "markdown",
   "id": "1a7f01da",
   "metadata": {},
   "source": [
    "`unrepaired_damage` has successfully been cleaned.\n",
    "\n",
    "Let us now clean `registration_year` column. This column has a value of **1000** as a minimum year of registration and **9999** as maximum year of registration. These values are unrealistic since in those years, cars were not have been invented and and it is in the future respectively. Let us explore the column, there might be other irregularities that could as well need our attention. "
   ]
  },
  {
   "cell_type": "code",
   "execution_count": 64,
   "id": "a62f4115",
   "metadata": {},
   "outputs": [
    {
     "data": {
      "text/plain": [
       "array([2007., 2001., 2011., 2000., 2013., 2005., 2002., 1996., 2004.,\n",
       "       2018., 1993., 2008., 2006., 2012., 2014., 2003., 1997., 1995.,\n",
       "       1994., 2010., 1998., 1999., 2016., 2009., 2017., 2015., 1971.,\n",
       "       1987., 1992., 1990., 1985., 1978., 1967., 1989., 1986., 2019.,\n",
       "       1980., 1982., 1991., 1951., 1968., 1983., 1950., 1988., 1973.,\n",
       "       1956., 1969., 1960., 1979., 1976., 1984., 1957., 1961., 1910.,\n",
       "       1965., 1977., 6000., 1972., 1962., 1000., 1974., 1958., 1970.,\n",
       "       5555., 3200., 1300., 1975., 1966., 1981., 5911., 5000., 1955.,\n",
       "       1964., 1939., 1933., 1963., 1953., 1400., 4800., 1600., 8455.,\n",
       "       4100., 1943., 4000., 9000., 1954., 1947., 9999., 1959., 1920.,\n",
       "       1936., 1952., 1800., 1929., 3000., 1932., 1111., 1938., 1946.])"
      ]
     },
     "execution_count": 64,
     "metadata": {},
     "output_type": "execute_result"
    }
   ],
   "source": [
    "auto['registration_year'].unique()"
   ]
  },
  {
   "cell_type": "markdown",
   "id": "ae637699",
   "metadata": {},
   "source": [
    "It seems the column has got many unrealistic values that need to be cleaned. There are some values that represent years before  cars were invented and values that represent years from the future. Since the first car was made in **1886** we are going to filter our data to include years from **1886** to **2016** the year our data was **crawled** from the website."
   ]
  },
  {
   "cell_type": "code",
   "execution_count": 65,
   "id": "0252e763",
   "metadata": {},
   "outputs": [
    {
     "data": {
      "text/plain": [
       "count    48055.000000\n",
       "mean      2002.814608\n",
       "std          7.397660\n",
       "min       1910.000000\n",
       "25%       1999.000000\n",
       "50%       2003.000000\n",
       "75%       2008.000000\n",
       "max       2016.000000\n",
       "Name: registration_year, dtype: float64"
      ]
     },
     "execution_count": 65,
     "metadata": {},
     "output_type": "execute_result"
    }
   ],
   "source": [
    "# Filtering our dataset to remove unrealistic years\n",
    "auto = auto[(auto['registration_year'] >= 1886) & (auto['registration_year'] <= 2016)].reset_index(drop=True)\n",
    "\n",
    "# Verify if our has been cleaned\n",
    "auto['registration_year'].describe()"
   ]
  },
  {
   "cell_type": "markdown",
   "id": "23c4f095",
   "metadata": {},
   "source": [
    "We have successfully cleaned `registration_year` column. It now has a minimum year of **1910** and maximum year of **2016**. "
   ]
  },
  {
   "cell_type": "markdown",
   "id": "14e0ca8b",
   "metadata": {},
   "source": [
    "### Dealing with Outliers\n",
    "\n",
    "The probable candidates for outliers in our datasets are columns `price` and `odometer_km`. Let us explore these two columns for outlier and decide how best we can deal with them. \n",
    "\n",
    "We will use a **boxplot** for this activity."
   ]
  },
  {
   "cell_type": "code",
   "execution_count": 66,
   "id": "5d979175",
   "metadata": {},
   "outputs": [
    {
     "data": {
      "image/png": "[encoded data removed]",
      "text/plain": [
       "<Figure size 640x480 with 1 Axes>"
      ]
     },
     "metadata": {},
     "output_type": "display_data"
    }
   ],
   "source": [
    "# Plotting a boxplot\n",
    "plt.boxplot(auto['price'], vert=False )\n",
    "plt.title('Price BoxPlot', fontdict={'fontfamily': 'serif', 'weight': 'bold', 'size': 12})\n",
    "plt.ticklabel_format(axis = 'x', style = 'plain')\n",
    "plt.xlabel('Price (US dollars)', family = 'serif', size = 12,)\n",
    "plt.xticks([0, 20000000, 40000000, 60000000, 80000000, 100000000],\\\n",
    "           ['0', '20,000,000', '40,000,000', '60,000,000',\\\n",
    "            '80,000,000', '100,000,000'],rotation = 45, family = 'serif', size = 10, alpha = 0.7)\n",
    "plt.grid(visible = False) \n",
    "plt.show()"
   ]
  },
  {
   "cell_type": "markdown",
   "id": "91ce2190",
   "metadata": {},
   "source": [
    "From the **BoxPlot** we can see that `price` column has got outliers as some cars are indicated to be selling at a price of more than **1, 000,000** US dollars. There is even a car that is selling at a price of **100, 000,000** US dollars which is unrealistic. We also have cars which are priced at **0.00** which does not make sense. I do not think someone may place an **ad** for a car that does not have value. \n",
    "\n",
    "Let us filter our dataset to include cars that are selling at a price of not more than **100,000** US dollars and exclude all cars with a price of less than **500** US dollars. We will plot the **BoxPlot** to display the changes."
   ]
  },
  {
   "cell_type": "code",
   "execution_count": 67,
   "id": "2b39bba6",
   "metadata": {},
   "outputs": [
    {
     "data": {
      "image/png": "[encoded data removed]",
      "text/plain": [
       "<Figure size 640x480 with 1 Axes>"
      ]
     },
     "metadata": {},
     "output_type": "display_data"
    }
   ],
   "source": [
    "# Filter our dataset\n",
    "auto = auto[(auto['price'] >= 500) & (auto['price'] <= 100000)]\n",
    "\n",
    "# Plot a boxplot\n",
    "plt.boxplot(auto['price'], vert = False)\n",
    "plt.title('Price BoxPlot', fontdict={'fontfamily': 'serif', 'weight': 'bold', 'size': 12})\n",
    "plt.xlabel('Price (US dollars)', family = 'serif', size = 12)\n",
    "plt.xticks([0, 20000, 40000, 60000, 80000, 100000], \\\n",
    "           ['0', '20,000', '40,000', '60,000', '80,000', '100,000'],\\\n",
    "           fontfamily = 'serif', size = 10, alpha = 0.7)\n",
    "plt.grid(visible = False)\n",
    "plt.show()"
   ]
  },
  {
   "cell_type": "markdown",
   "id": "39d1ca5c",
   "metadata": {},
   "source": [
    "We now have outliers that can make sense. A price of **100,000** US dollars for a secondhand car is realistic. \n",
    "\n",
    "Let us display some descriptive statistics for `price` column and see what we have about this column."
   ]
  },
  {
   "cell_type": "code",
   "execution_count": 68,
   "id": "fef72738",
   "metadata": {},
   "outputs": [
    {
     "data": {
      "text/plain": [
       "count    43326.000000\n",
       "mean      6232.335826\n",
       "std       7560.888729\n",
       "min        500.000000\n",
       "25%       1500.000000\n",
       "50%       3500.000000\n",
       "75%       7999.000000\n",
       "max      99999.000000\n",
       "Name: price, dtype: float64"
      ]
     },
     "execution_count": 68,
     "metadata": {},
     "output_type": "execute_result"
    }
   ],
   "source": [
    "auto['price'].describe()"
   ]
  },
  {
   "cell_type": "markdown",
   "id": "8110bbe6",
   "metadata": {},
   "source": [
    "We now have a `price` column that is clean. The following are the basic statistics as displayed above:\n",
    "    `minimum price` **500** dollars,\n",
    "    `maximum price` **99,999** dollars,\n",
    "    `medium price`  **3, 500** dollars, and \n",
    "    `mean price`    **6,232** dollars. \n",
    "The **mean** value is different from **median** value because it is affected by car prices of expencive cars. It seems many cars are priced in the range between **1,500** and **7,999** dollars, so prices of more than **8,000** dollars are offsetting the value of the mean. In this case a good measure of average price could be the **Median** as it is not affected by outliers.\n",
    "\n",
    "Let us explore `odometer_km` for outliers now. We will still use a boxplot."
   ]
  },
  {
   "cell_type": "code",
   "execution_count": 69,
   "id": "6cdd2092",
   "metadata": {},
   "outputs": [
    {
     "data": {
      "image/png": "[encoded data removed]",
      "text/plain": [
       "<Figure size 640x480 with 1 Axes>"
      ]
     },
     "metadata": {},
     "output_type": "display_data"
    }
   ],
   "source": [
    "plt.boxplot(auto['odometer_km'], vert=False)\n",
    "plt.title('Odometer_Km BoxPlot', family = 'serif', weight = 'bold', size = 12)\n",
    "plt.xlabel('Odometer Leading (Km)', family = 'serif', size = 12)\n",
    "plt.xticks([0, 40000, 80000, 120000, 160000], \\\n",
    "           ['0', '40,000', '80,000', '120,000', '160,000'], family = 'serif', size = 12, alpha = 0.7)\n",
    "plt.grid(visible = False)\n",
    "plt.show()"
   ]
  },
  {
   "cell_type": "markdown",
   "id": "83bad110",
   "metadata": {},
   "source": [
    "It shows that our `odomete_km` column does not have problems in as far as outliers are concerned. We have some cars with very little **mileage** and this is realistic even thought they have been presented in our boxplot. Let us display descriptive statistics for this column to get a wider perspective."
   ]
  },
  {
   "cell_type": "code",
   "execution_count": 70,
   "id": "f8f693e8",
   "metadata": {},
   "outputs": [
    {
     "data": {
      "text/plain": [
       "count     43326.000000\n",
       "mean     125148.294327\n",
       "std       39634.516717\n",
       "min        5000.000000\n",
       "25%      100000.000000\n",
       "50%      150000.000000\n",
       "75%      150000.000000\n",
       "max      150000.000000\n",
       "Name: odometer_km, dtype: float64"
      ]
     },
     "execution_count": 70,
     "metadata": {},
     "output_type": "execute_result"
    }
   ],
   "source": [
    "auto['odometer_km'].describe()"
   ]
  },
  {
   "cell_type": "markdown",
   "id": "63630890",
   "metadata": {},
   "source": [
    "The minimum **mileage** is **5,000** kilometers and maximum **mileage** is **150,000** kilometers.\n",
    "\n",
    "Now that we have a clean dataset, let us view the first five records and last five records of our dataset."
   ]
  },
  {
   "cell_type": "code",
   "execution_count": 71,
   "id": "d87df5b8",
   "metadata": {},
   "outputs": [
    {
     "data": {
      "text/html": [
       "<div>\n",
       "<style scoped>\n",
       "    .dataframe tbody tr th:only-of-type {\n",
       "        vertical-align: middle;\n",
       "    }\n",
       "\n",
       "    .dataframe tbody tr th {\n",
       "        vertical-align: top;\n",
       "    }\n",
       "\n",
       "    .dataframe thead th {\n",
       "        text-align: right;\n",
       "    }\n",
       "</style>\n",
       "<table border=\"1\" class=\"dataframe\">\n",
       "  <thead>\n",
       "    <tr style=\"text-align: right;\">\n",
       "      <th></th>\n",
       "      <th>date_crawled</th>\n",
       "      <th>name</th>\n",
       "      <th>price</th>\n",
       "      <th>ab_test</th>\n",
       "      <th>vehicle_type</th>\n",
       "      <th>registration_year</th>\n",
       "      <th>gear_box</th>\n",
       "      <th>power_ps</th>\n",
       "      <th>model</th>\n",
       "      <th>odometer_km</th>\n",
       "      <th>registration_month</th>\n",
       "      <th>fuel_type</th>\n",
       "      <th>brand</th>\n",
       "      <th>unrepaired_damage</th>\n",
       "      <th>ad_created</th>\n",
       "      <th>postal_code</th>\n",
       "      <th>last_seen</th>\n",
       "    </tr>\n",
       "  </thead>\n",
       "  <tbody>\n",
       "    <tr>\n",
       "      <th>0</th>\n",
       "      <td>2016-07-03 23:56:00</td>\n",
       "      <td>BMW_116i_TÜV_neu!_Einparkhilfe__Sitzheizung</td>\n",
       "      <td>6950.0</td>\n",
       "      <td>test</td>\n",
       "      <td>limousine</td>\n",
       "      <td>2007.0</td>\n",
       "      <td>Manual</td>\n",
       "      <td>116.0</td>\n",
       "      <td>1er</td>\n",
       "      <td>125000</td>\n",
       "      <td>2.0</td>\n",
       "      <td>petrol</td>\n",
       "      <td>bmw</td>\n",
       "      <td>No</td>\n",
       "      <td>2016-07-03</td>\n",
       "      <td>24837.0</td>\n",
       "      <td>2016-11-03 14:46:00</td>\n",
       "    </tr>\n",
       "    <tr>\n",
       "      <th>1</th>\n",
       "      <td>2016-03-25 18:49:00</td>\n",
       "      <td>Volkswagen_Golf_Cabrio_1.9_TDI</td>\n",
       "      <td>3990.0</td>\n",
       "      <td>test</td>\n",
       "      <td>cabrio</td>\n",
       "      <td>2001.0</td>\n",
       "      <td>Manual</td>\n",
       "      <td>90.0</td>\n",
       "      <td>golf</td>\n",
       "      <td>150000</td>\n",
       "      <td>4.0</td>\n",
       "      <td>diesel</td>\n",
       "      <td>volkswagen</td>\n",
       "      <td>No</td>\n",
       "      <td>2016-03-25</td>\n",
       "      <td>37081.0</td>\n",
       "      <td>2016-01-04 03:46:00</td>\n",
       "    </tr>\n",
       "    <tr>\n",
       "      <th>2</th>\n",
       "      <td>2016-07-03 23:54:00</td>\n",
       "      <td>Polo_GTI_DSG</td>\n",
       "      <td>12900.0</td>\n",
       "      <td>test</td>\n",
       "      <td>kleinwagen</td>\n",
       "      <td>2011.0</td>\n",
       "      <td>Automatic</td>\n",
       "      <td>0.0</td>\n",
       "      <td>polo</td>\n",
       "      <td>60000</td>\n",
       "      <td>8.0</td>\n",
       "      <td>unknown</td>\n",
       "      <td>volkswagen</td>\n",
       "      <td>UnKnown</td>\n",
       "      <td>2016-07-03</td>\n",
       "      <td>94474.0</td>\n",
       "      <td>2016-05-04 13:47:00</td>\n",
       "    </tr>\n",
       "    <tr>\n",
       "      <th>3</th>\n",
       "      <td>2016-10-03 19:56:00</td>\n",
       "      <td>Volkswagen_Golf_1.6_Edition</td>\n",
       "      <td>2100.0</td>\n",
       "      <td>control</td>\n",
       "      <td>limousine</td>\n",
       "      <td>2000.0</td>\n",
       "      <td>Manual</td>\n",
       "      <td>137.0</td>\n",
       "      <td>golf</td>\n",
       "      <td>150000</td>\n",
       "      <td>4.0</td>\n",
       "      <td>petrol</td>\n",
       "      <td>volkswagen</td>\n",
       "      <td>No</td>\n",
       "      <td>2016-10-03</td>\n",
       "      <td>88499.0</td>\n",
       "      <td>2016-02-04 08:18:00</td>\n",
       "    </tr>\n",
       "    <tr>\n",
       "      <th>5</th>\n",
       "      <td>2016-01-04 13:50:00</td>\n",
       "      <td>Mercedes_Benz_S_500_AMG_LPG</td>\n",
       "      <td>18000.0</td>\n",
       "      <td>control</td>\n",
       "      <td>limousine</td>\n",
       "      <td>2005.0</td>\n",
       "      <td>Automatic</td>\n",
       "      <td>387.0</td>\n",
       "      <td>s_klasse</td>\n",
       "      <td>150000</td>\n",
       "      <td>10.0</td>\n",
       "      <td>lpg</td>\n",
       "      <td>mercedes_benz</td>\n",
       "      <td>No</td>\n",
       "      <td>2016-01-04</td>\n",
       "      <td>65197.0</td>\n",
       "      <td>2016-02-04 22:29:00</td>\n",
       "    </tr>\n",
       "    <tr>\n",
       "      <th>...</th>\n",
       "      <td>...</td>\n",
       "      <td>...</td>\n",
       "      <td>...</td>\n",
       "      <td>...</td>\n",
       "      <td>...</td>\n",
       "      <td>...</td>\n",
       "      <td>...</td>\n",
       "      <td>...</td>\n",
       "      <td>...</td>\n",
       "      <td>...</td>\n",
       "      <td>...</td>\n",
       "      <td>...</td>\n",
       "      <td>...</td>\n",
       "      <td>...</td>\n",
       "      <td>...</td>\n",
       "      <td>...</td>\n",
       "      <td>...</td>\n",
       "    </tr>\n",
       "    <tr>\n",
       "      <th>48050</th>\n",
       "      <td>2016-03-28 20:39:00</td>\n",
       "      <td>Audi_a4_avant</td>\n",
       "      <td>2800.0</td>\n",
       "      <td>control</td>\n",
       "      <td>kombi</td>\n",
       "      <td>2000.0</td>\n",
       "      <td>Automatic</td>\n",
       "      <td>0.0</td>\n",
       "      <td>a4</td>\n",
       "      <td>150000</td>\n",
       "      <td>0.0</td>\n",
       "      <td>diesel</td>\n",
       "      <td>audi</td>\n",
       "      <td>UnKnown</td>\n",
       "      <td>2016-03-28</td>\n",
       "      <td>26340.0</td>\n",
       "      <td>2016-03-04 01:45:00</td>\n",
       "    </tr>\n",
       "    <tr>\n",
       "      <th>48051</th>\n",
       "      <td>2016-06-03 16:38:00</td>\n",
       "      <td>Mercedes_Benz_w140__HU_08/17__Euro_2</td>\n",
       "      <td>3500.0</td>\n",
       "      <td>test</td>\n",
       "      <td>limousine</td>\n",
       "      <td>1994.0</td>\n",
       "      <td>Automatic</td>\n",
       "      <td>142.0</td>\n",
       "      <td>s_klasse</td>\n",
       "      <td>150000</td>\n",
       "      <td>3.0</td>\n",
       "      <td>petrol</td>\n",
       "      <td>mercedes_benz</td>\n",
       "      <td>Yes</td>\n",
       "      <td>2016-06-03</td>\n",
       "      <td>95100.0</td>\n",
       "      <td>2016-06-03 16:38:00</td>\n",
       "    </tr>\n",
       "    <tr>\n",
       "      <th>48052</th>\n",
       "      <td>2016-03-19 20:48:00</td>\n",
       "      <td>Fiat_500_1.2_S</td>\n",
       "      <td>8795.0</td>\n",
       "      <td>control</td>\n",
       "      <td>kleinwagen</td>\n",
       "      <td>2014.0</td>\n",
       "      <td>Manual</td>\n",
       "      <td>69.0</td>\n",
       "      <td>500</td>\n",
       "      <td>40000</td>\n",
       "      <td>10.0</td>\n",
       "      <td>petrol</td>\n",
       "      <td>fiat</td>\n",
       "      <td>Yes</td>\n",
       "      <td>2016-03-19</td>\n",
       "      <td>95697.0</td>\n",
       "      <td>2016-03-22 02:47:00</td>\n",
       "    </tr>\n",
       "    <tr>\n",
       "      <th>48053</th>\n",
       "      <td>2016-03-29 18:38:00</td>\n",
       "      <td>BMW_E39_540i_GPower_KW_Variante_2_Leder_Klima_...</td>\n",
       "      <td>5499.0</td>\n",
       "      <td>control</td>\n",
       "      <td>limousine</td>\n",
       "      <td>1996.0</td>\n",
       "      <td>Automatic</td>\n",
       "      <td>286.0</td>\n",
       "      <td>5er</td>\n",
       "      <td>150000</td>\n",
       "      <td>7.0</td>\n",
       "      <td>petrol</td>\n",
       "      <td>bmw</td>\n",
       "      <td>No</td>\n",
       "      <td>2016-03-29</td>\n",
       "      <td>37520.0</td>\n",
       "      <td>2016-05-04 20:18:00</td>\n",
       "    </tr>\n",
       "    <tr>\n",
       "      <th>48054</th>\n",
       "      <td>2016-03-20 15:46:00</td>\n",
       "      <td>Fiat_500L</td>\n",
       "      <td>6200.0</td>\n",
       "      <td>control</td>\n",
       "      <td>UnKnown</td>\n",
       "      <td>1980.0</td>\n",
       "      <td>UnKnown</td>\n",
       "      <td>0.0</td>\n",
       "      <td>500</td>\n",
       "      <td>5000</td>\n",
       "      <td>0.0</td>\n",
       "      <td>unknown</td>\n",
       "      <td>fiat</td>\n",
       "      <td>UnKnown</td>\n",
       "      <td>2016-03-20</td>\n",
       "      <td>68199.0</td>\n",
       "      <td>2016-06-04 20:17:00</td>\n",
       "    </tr>\n",
       "  </tbody>\n",
       "</table>\n",
       "<p>43326 rows × 17 columns</p>\n",
       "</div>"
      ],
      "text/plain": [
       "             date_crawled                                               name  \\\n",
       "0     2016-07-03 23:56:00        BMW_116i_TÜV_neu!_Einparkhilfe__Sitzheizung   \n",
       "1     2016-03-25 18:49:00                     Volkswagen_Golf_Cabrio_1.9_TDI   \n",
       "2     2016-07-03 23:54:00                                       Polo_GTI_DSG   \n",
       "3     2016-10-03 19:56:00                        Volkswagen_Golf_1.6_Edition   \n",
       "5     2016-01-04 13:50:00                        Mercedes_Benz_S_500_AMG_LPG   \n",
       "...                   ...                                                ...   \n",
       "48050 2016-03-28 20:39:00                                      Audi_a4_avant   \n",
       "48051 2016-06-03 16:38:00               Mercedes_Benz_w140__HU_08/17__Euro_2   \n",
       "48052 2016-03-19 20:48:00                                     Fiat_500_1.2_S   \n",
       "48053 2016-03-29 18:38:00  BMW_E39_540i_GPower_KW_Variante_2_Leder_Klima_...   \n",
       "48054 2016-03-20 15:46:00                                          Fiat_500L   \n",
       "\n",
       "         price  ab_test vehicle_type  registration_year   gear_box  power_ps  \\\n",
       "0       6950.0     test    limousine             2007.0     Manual     116.0   \n",
       "1       3990.0     test       cabrio             2001.0     Manual      90.0   \n",
       "2      12900.0     test   kleinwagen             2011.0  Automatic       0.0   \n",
       "3       2100.0  control    limousine             2000.0     Manual     137.0   \n",
       "5      18000.0  control    limousine             2005.0  Automatic     387.0   \n",
       "...        ...      ...          ...                ...        ...       ...   \n",
       "48050   2800.0  control        kombi             2000.0  Automatic       0.0   \n",
       "48051   3500.0     test    limousine             1994.0  Automatic     142.0   \n",
       "48052   8795.0  control   kleinwagen             2014.0     Manual      69.0   \n",
       "48053   5499.0  control    limousine             1996.0  Automatic     286.0   \n",
       "48054   6200.0  control      UnKnown             1980.0    UnKnown       0.0   \n",
       "\n",
       "          model  odometer_km  registration_month fuel_type          brand  \\\n",
       "0           1er       125000                 2.0    petrol            bmw   \n",
       "1          golf       150000                 4.0    diesel     volkswagen   \n",
       "2          polo        60000                 8.0   unknown     volkswagen   \n",
       "3          golf       150000                 4.0    petrol     volkswagen   \n",
       "5      s_klasse       150000                10.0       lpg  mercedes_benz   \n",
       "...         ...          ...                 ...       ...            ...   \n",
       "48050        a4       150000                 0.0    diesel           audi   \n",
       "48051  s_klasse       150000                 3.0    petrol  mercedes_benz   \n",
       "48052       500        40000                10.0    petrol           fiat   \n",
       "48053       5er       150000                 7.0    petrol            bmw   \n",
       "48054       500         5000                 0.0   unknown           fiat   \n",
       "\n",
       "      unrepaired_damage ad_created  postal_code           last_seen  \n",
       "0                    No 2016-07-03      24837.0 2016-11-03 14:46:00  \n",
       "1                    No 2016-03-25      37081.0 2016-01-04 03:46:00  \n",
       "2               UnKnown 2016-07-03      94474.0 2016-05-04 13:47:00  \n",
       "3                    No 2016-10-03      88499.0 2016-02-04 08:18:00  \n",
       "5                    No 2016-01-04      65197.0 2016-02-04 22:29:00  \n",
       "...                 ...        ...          ...                 ...  \n",
       "48050           UnKnown 2016-03-28      26340.0 2016-03-04 01:45:00  \n",
       "48051               Yes 2016-06-03      95100.0 2016-06-03 16:38:00  \n",
       "48052               Yes 2016-03-19      95697.0 2016-03-22 02:47:00  \n",
       "48053                No 2016-03-29      37520.0 2016-05-04 20:18:00  \n",
       "48054           UnKnown 2016-03-20      68199.0 2016-06-04 20:17:00  \n",
       "\n",
       "[43326 rows x 17 columns]"
      ]
     },
     "execution_count": 71,
     "metadata": {},
     "output_type": "execute_result"
    }
   ],
   "source": [
    "auto"
   ]
  },
  {
   "cell_type": "markdown",
   "id": "a237f545",
   "metadata": {},
   "source": [
    "Our cleaned dataset has **43326** rows and **18** columns. This dataset is now ready to be used for *Data Analysis*. \n",
    "\n",
    "This dataset can be exported for storage in **csv** format, excel's **xslx** formant or inserted as a table in a **Relaional Database**. We will continue our activity to conducting some Exploratory Data Analysis on our dataset.\n",
    "\n",
    "## 4. Data Analysis\n",
    "\n",
    "Questions to be Answered:\n",
    "\n",
    "1. What are the popular brands?\n",
    "2. What are the most expensive cars by brand?\n",
    "3. How do car prices differ by odometer readings?\n",
    "\n",
    "### Exploring Brand Popularity\n",
    "\n",
    "Here we will try to answer the first question where we would like to find the top ten popular brands from our dataset."
   ]
  },
  {
   "cell_type": "code",
   "execution_count": 72,
   "id": "85c02085",
   "metadata": {},
   "outputs": [
    {
     "data": {
      "text/plain": [
       "volkswagen       9238\n",
       "bmw              5056\n",
       "mercedes_benz    4361\n",
       "opel             4291\n",
       "audi             4066\n",
       "ford             2875\n",
       "renault          1933\n",
       "peugeot          1277\n",
       "fiat             1021\n",
       "seat              765\n",
       "Name: brand, dtype: int64"
      ]
     },
     "execution_count": 72,
     "metadata": {},
     "output_type": "execute_result"
    }
   ],
   "source": [
    "# Frequency table for \"brand\" column\n",
    "pop_brand = auto['brand'].value_counts()[:10]\n",
    "pop_brand"
   ]
  },
  {
   "cell_type": "markdown",
   "id": "ac6b5288",
   "metadata": {},
   "source": [
    "From the Frequency table above, we can easily see that **volkswagen** is the most popular brand with frequency of **9238**. We can display the results on a horizonatal bar plot. "
   ]
  },
  {
   "cell_type": "code",
   "execution_count": 73,
   "id": "bdb372b0",
   "metadata": {},
   "outputs": [
    {
     "data": {
      "image/png": "[encoded data removed]",
      "text/plain": [
       "<Figure size 500x400 with 1 Axes>"
      ]
     },
     "metadata": {},
     "output_type": "display_data"
    }
   ],
   "source": [
    "# Plotting a horizonatal barplot for the frequency table\n",
    "fig, ax = plt.subplots(figsize=(5, 4))\n",
    "pop_brand.plot.barh(color = 'brown')\n",
    "ax.grid(visible=False)\n",
    "ax.tick_params(labeltop = True, labelbottom = False)\n",
    "ax.set_xticks([0, 4000, 8000])\n",
    "ax.set_xticklabels(['0', '4,000', '8,000'], family = 'serif', alpha = 0.5, size = 10)\n",
    "ax.set_yticklabels(['Volkswagen', 'BMW', 'Mercedes', 'Opel',\\\n",
    "                    'Audi', 'Ford', 'Renault', 'Peugeot', 'Fiat', 'Seat'],\\\n",
    "                   family = 'serif', size = 10, alpha = 0.7)\n",
    "ax.text(x = 2000, y = -2, s = 'Most Popular Brand', \\\n",
    "        family = 'serif', weight = 'bold', size = 14)\n",
    "ax.text(x = 0, y = -1.5, s = 'Volkswagen is the most popular car brand',\\\n",
    "        family = 'serif', size = 11, alpha = 0.6, weight = 'heavy')\n",
    "ax.invert_yaxis()\n",
    "plt.show()"
   ]
  },
  {
   "cell_type": "markdown",
   "id": "97fc070d",
   "metadata": {},
   "source": [
    "From the chart above, one may easily be able to detect which car brand is the most popular one. **Volkswagen** is the most popular car brand.\n",
    "\n",
    "### Exploring Price by Brand\n",
    "\n",
    "Let us now explore which brands asks a high price on average. We are also going to find the top ten most expensive brands."
   ]
  },
  {
   "cell_type": "code",
   "execution_count": 74,
   "id": "e5c7f537",
   "metadata": {},
   "outputs": [
    {
     "data": {
      "text/plain": [
       "brand\n",
       "porsche           34296.164557\n",
       "land_rover        18518.610526\n",
       "jeep              11621.009524\n",
       "sonstige_autos    11536.438172\n",
       "mini              10846.144550\n",
       "jaguar             9487.169014\n",
       "audi               9326.134530\n",
       "bmw                8561.528481\n",
       "mercedes_benz      8460.017886\n",
       "chevrolet          7221.761421\n",
       "Name: price, dtype: float64"
      ]
     },
     "execution_count": 74,
     "metadata": {},
     "output_type": "execute_result"
    }
   ],
   "source": [
    "price_by_brand = auto.groupby(['brand'])['price'].mean().sort_values(ascending = False)[:10]\n",
    "price_by_brand"
   ]
  },
  {
   "cell_type": "markdown",
   "id": "8901805e",
   "metadata": {},
   "source": [
    "From the above table, on **average** the most expensive cars are the **Porsche** which are selling at an average price of **34,296.16 US dollars**. Following is a visualisation of the above findings."
   ]
  },
  {
   "cell_type": "code",
   "execution_count": 75,
   "id": "800afeba",
   "metadata": {},
   "outputs": [
    {
     "data": {
      "image/png": "[encoded data removed]",
      "text/plain": [
       "<Figure size 500x400 with 1 Axes>"
      ]
     },
     "metadata": {},
     "output_type": "display_data"
    }
   ],
   "source": [
    "fig, ax = plt.subplots(figsize=(5,4))\n",
    "price_by_brand.plot.barh()\n",
    "ax.set_ylabel('')\n",
    "ax.set_xticks([0, 15000, 30000])\n",
    "ax.set_xticklabels(['0', '15,000', '30,000'], family = 'serif', alpha = 0.5, size = 10)\n",
    "ax.set_yticklabels(['Porsche', 'Land Rover', 'Jeep', 'Sonstige',\\\n",
    "                    'Mini', 'Jaguar', 'Audi', 'BMW', 'Mercedes', \\\n",
    "                    'Chevrolet'], family = 'serif', size = 10, alpha = 0.7)\n",
    "ax.text(x = 6000, y = -2, s = \"Average Price by Brand\", weight = 'bold', family = 'serif', size = 12)\n",
    "ax.text(x = 0, y = -1.5, s = \"Porsche is on average the most expensive brand\",\\\n",
    "        alpha = 0.6, size = 11, weight = 'heavy', family = 'serif')\n",
    "ax.invert_yaxis()\n",
    "ax.tick_params(labeltop = True, labelbottom = False)\n",
    "ax.grid(visible = False)\n",
    "plt.show()"
   ]
  },
  {
   "cell_type": "markdown",
   "id": "34c713da",
   "metadata": {},
   "source": [
    "### Exploring price by Mileage\n",
    "\n",
    "This is a market of secondhand cars and the expectation is that a car with a high mileage should fetch a lower price if compared to a car whose mileage is low, holding other factors constant. Cars are expected to depreciate in value as they are being used and one of the measures for indicating how much value the car has lost is mileage, the higher the mileage the lower the price. The **auto** dataset will be used to verify if the presumed assumption holds.\n",
    "\n",
    "In this section, average car prices will be determined in relation to their mileage. The odometer readings will be grouped into three groups: **50,000 Km**, **100,000 Km** and **150,000 Km**."
   ]
  },
  {
   "cell_type": "code",
   "execution_count": 76,
   "id": "d5089a2b",
   "metadata": {},
   "outputs": [
    {
     "data": {
      "text/plain": [
       "array(['150,000 Km', '100,000 Km', '50,000 Km'], dtype=object)"
      ]
     },
     "execution_count": 76,
     "metadata": {},
     "output_type": "execute_result"
    }
   ],
   "source": [
    "# creating a new column \"odometer_km_group\"\n",
    "auto['odometer_km_group'] = pd.cut(auto['odometer_km'], 3)\n",
    "auto['odometer_km_group'] = auto['odometer_km_group'].astype('str')\n",
    "auto['odometer_km_group'] = auto['odometer_km_group'].str.replace('(101666.667, 150000.0]', '150,000 Km', regex = False).str\\\n",
    ".replace('(53333.333, 101666.667]', '100,000 Km', regex = False).str.replace('(4855.0, 53333.333]', '50,000 Km', regex = False)\n",
    "auto['odometer_km_group'].unique()"
   ]
  },
  {
   "cell_type": "markdown",
   "id": "9fbe7056",
   "metadata": {},
   "source": [
    "The new column `odemeter_km_group` has been created which will be used in the analysis.\n",
    "\n",
    "The following is a calculation of average prices for every group in `odometer_km_group` column.\n"
   ]
  },
  {
   "cell_type": "code",
   "execution_count": 77,
   "id": "92b7b1d0",
   "metadata": {},
   "outputs": [
    {
     "data": {
      "text/plain": [
       "odometer_km_group\n",
       "50,000 Km     14651.190083\n",
       "100,000 Km     9633.555942\n",
       "150,000 Km     4426.330513\n",
       "Name: price, dtype: float64"
      ]
     },
     "execution_count": 77,
     "metadata": {},
     "output_type": "execute_result"
    }
   ],
   "source": [
    "# Create a groupby and calculate average prices\n",
    "mileage_group = auto.groupby('odometer_km_group')['price'].mean().sort_values(ascending = False)\n",
    "mileage_group"
   ]
  },
  {
   "cell_type": "markdown",
   "id": "e62ba5d9",
   "metadata": {},
   "source": [
    "The above output has verified the assumption that was made that cars with higher mileage are more likely to fetch a lower price on the market. In other words, the value of the car is inversely related to its odometer readings. The average price for cars with **150,000 Km** is lower than the average price of cars in the **50,000 Km** group.\n",
    "\n",
    "The same results can still be presented on a **donut** chart. "
   ]
  },
  {
   "cell_type": "code",
   "execution_count": 80,
   "id": "cd7f258a",
   "metadata": {},
   "outputs": [
    {
     "data": {
      "image/png": "[encoded data removed]",
      "text/plain": [
       "<Figure size 600x600 with 1 Axes>"
      ]
     },
     "metadata": {},
     "output_type": "display_data"
    }
   ],
   "source": [
    "# Donut chart for average prices against odometer readings\n",
    "fig, ax = plt.subplots(figsize=(6,6))\n",
    "mileage_group.plot.pie(colors = ['brown', 'green', 'blue'],\\\n",
    "                       wedgeprops={'linewidth': 6, 'edgecolor': '#EEEEEE'}, startangle = 90)\n",
    "plt.rcParams['font.family'] = 'serif'\n",
    "plt.rcParams['font.size'] = 8\n",
    "ax.set_axis_off()\n",
    "plt.ylabel(\"\")\n",
    "my_circle=plt.Circle( (0,0), 0.7, color='#EEEEEE')\n",
    "p=plt.gcf()\n",
    "p.gca().add_artist(my_circle)\n",
    "ax.text(x = -0.8, y = 1.36, s = \"Average Prices by Odometer Readings\",\\\n",
    "        family = 'serif', size = 12, weight = 'bold')\n",
    "ax.text(x = -0.9, y = 1.2, s = \"Cars with Odometer readings of around 50,000 \\n         \\\n",
    "kilometers are expensive on average\", weight = 'heavy', size = 11, family = 'serif', alpha = 0.6)\n",
    "plt.show()"
   ]
  },
  {
   "cell_type": "markdown",
   "id": "7fc0e750",
   "metadata": {},
   "source": [
    "### Conclution\n",
    "\n",
    "This marks the end of the project. The main purpose was to **clean** the data making it ready for Analysis. Some intial Explorary Data Analysis were also conducted to understand important relationships among columns and discriptive statistics.\n",
    "\n",
    "The dataset will finally be exported as a **csv file** for storage in the local drive (Desktop) and will be assigned to variable **auto_cars**."
   ]
  },
  {
   "cell_type": "code",
   "execution_count": 79,
   "id": "aff57ce6",
   "metadata": {},
   "outputs": [],
   "source": [
    "# Export the dataset\n",
    "auto.to_csv(r\"C:\\Users\\j\\Desktop\\auto_cars.csv\")"
   ]
  },
  {
   "cell_type": "markdown",
   "id": "13912800",
   "metadata": {},
   "source": [
    "# THE END\n",
    "\n",
    "###### McBrown Wilfred Mwale"
   ]
  }
 ],
 "metadata": {
  "kernelspec": {
   "display_name": "Python 3 (ipykernel)",
   "language": "python",
   "name": "python3"
  },
  "language_info": {
   "codemirror_mode": {
    "name": "ipython",
    "version": 3
   },
   "file_extension": ".py",
   "mimetype": "text/x-python",
   "name": "python",
   "nbconvert_exporter": "python",
   "pygments_lexer": "ipython3",
   "version": "3.10.9"
  }
 },
 "nbformat": 4,
 "nbformat_minor": 5
}
